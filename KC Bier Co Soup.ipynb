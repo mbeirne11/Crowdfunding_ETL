{
 "cells": [
  {
   "cell_type": "code",
   "execution_count": 1,
   "id": "d447b551",
   "metadata": {},
   "outputs": [],
   "source": [
    "from splinter import Browser\n",
    "from bs4 import BeautifulSoup as soup\n",
    "from selenium.webdriver.chrome.service import Service\n",
    "import time\n",
    "import pandas as pd"
   ]
  },
  {
   "cell_type": "code",
   "execution_count": 2,
   "id": "30060754",
   "metadata": {},
   "outputs": [],
   "source": [
    "my_service = Service(executable_path='c:/chrome_driver/chromedriver.exe')\n",
    "browser = Browser('chrome', service=my_service)"
   ]
  },
  {
   "cell_type": "code",
   "execution_count": 3,
   "id": "6a887076",
   "metadata": {},
   "outputs": [],
   "source": [
    "url = 'https://kcbier.com/our-bier/'\n",
    "browser.visit(url)"
   ]
  },
  {
   "cell_type": "code",
   "execution_count": 4,
   "id": "1dd3abec",
   "metadata": {},
   "outputs": [],
   "source": [
    "beer_soup = soup(browser.html)"
   ]
  },
  {
   "cell_type": "code",
   "execution_count": 5,
   "id": "3637a266",
   "metadata": {},
   "outputs": [],
   "source": [
    "address = beer_soup.find('div',class_='the-address').find('p').text\n",
    "phone = beer_soup.find('div',class_='the-phone').find('p').text"
   ]
  },
  {
   "cell_type": "code",
   "execution_count": 6,
   "id": "74173fba",
   "metadata": {},
   "outputs": [
    {
     "data": {
      "text/html": [
       "<div>\n",
       "<style scoped>\n",
       "    .dataframe tbody tr th:only-of-type {\n",
       "        vertical-align: middle;\n",
       "    }\n",
       "\n",
       "    .dataframe tbody tr th {\n",
       "        vertical-align: top;\n",
       "    }\n",
       "\n",
       "    .dataframe thead th {\n",
       "        text-align: right;\n",
       "    }\n",
       "</style>\n",
       "<table border=\"1\" class=\"dataframe\">\n",
       "  <thead>\n",
       "    <tr style=\"text-align: right;\">\n",
       "      <th></th>\n",
       "      <th>Name</th>\n",
       "      <th>Address</th>\n",
       "      <th>Contact</th>\n",
       "      <th>BreweryID</th>\n",
       "    </tr>\n",
       "  </thead>\n",
       "  <tbody>\n",
       "    <tr>\n",
       "      <th>0</th>\n",
       "      <td>KC Bier Co</td>\n",
       "      <td>310 W 79th StKansas City, MO 64114</td>\n",
       "      <td>(816) 214-8691</td>\n",
       "      <td>3</td>\n",
       "    </tr>\n",
       "  </tbody>\n",
       "</table>\n",
       "</div>"
      ],
      "text/plain": [
       "         Name                             Address         Contact  BreweryID\n",
       "0  KC Bier Co  310 W 79th StKansas City, MO 64114  (816) 214-8691          3"
      ]
     },
     "execution_count": 6,
     "metadata": {},
     "output_type": "execute_result"
    }
   ],
   "source": [
    "brewery_dict = {}\n",
    "\n",
    "brewery_dict['Name'] = 'KC Bier Co'\n",
    "brewery_dict['Address'] = address\n",
    "brewery_dict['Contact'] = phone\n",
    "brewery_dict['BreweryID'] = 3\n",
    "kc_bier_df = pd.DataFrame([brewery_dict])\n",
    "kc_bier_df"
   ]
  },
  {
   "cell_type": "code",
   "execution_count": 7,
   "id": "84b7bc37",
   "metadata": {},
   "outputs": [],
   "source": [
    "kc_bier_df.to_csv('KcBierCoInfo.csv')"
   ]
  },
  {
   "cell_type": "code",
   "execution_count": 8,
   "id": "c3a5a42f",
   "metadata": {},
   "outputs": [],
   "source": [
    "beer_links = []\n",
    "for beer in beer_soup.find_all('h3'):\n",
    "    for link in beer.find_all('a'):\n",
    "        beer_links.append(link['href'])"
   ]
  },
  {
   "cell_type": "code",
   "execution_count": 9,
   "id": "78e0ffbd",
   "metadata": {},
   "outputs": [
    {
     "data": {
      "text/plain": [
       "['https://kcbier.com/biers/bier-co-light/',\n",
       " 'https://kcbier.com/biers/dunkel/',\n",
       " 'https://kcbier.com/biers/hefeweizen/',\n",
       " 'https://kcbier.com/biers/helles/',\n",
       " 'https://kcbier.com/biers/hop-spritz/',\n",
       " 'https://kcbier.com/biers/never-say-ipa-2/',\n",
       " 'https://kcbier.com/biers/purepils/',\n",
       " 'https://kcbier.com/biers/kolsch/',\n",
       " 'https://kcbier.com/biers/festbier/',\n",
       " 'https://kcbier.com/biers/schwarzbier/',\n",
       " 'https://kcbier.com/biers/schwarzbock/',\n",
       " 'https://kcbier.com/biers/heim-bier/',\n",
       " 'https://kcbier.com/biers/winterbock/',\n",
       " 'https://kcbier.com/biers/zoigl-bier/',\n",
       " 'https://kcbier.com/biers/apfel-cider/',\n",
       " 'https://kcbier.com/biers/arrowred-lager/']"
      ]
     },
     "execution_count": 9,
     "metadata": {},
     "output_type": "execute_result"
    }
   ],
   "source": [
    "beer_links"
   ]
  },
  {
   "cell_type": "code",
   "execution_count": 10,
   "id": "2c0cd272",
   "metadata": {},
   "outputs": [],
   "source": [
    "beer_list =[]\n",
    "for beer in beer_links:\n",
    "    beer_dict = {}\n",
    "    browser.visit(beer)\n",
    "    time.sleep(1)\n",
    "    beer_soup = soup(browser.html)\n",
    "    beer_dict['Name'] = beer_soup.find('h1').text\n",
    "    beer_dict['Style'] = beer_soup.find('div',class_='bier-style').text\n",
    "    beer_dict['ABV'] = beer_soup.find('td').text.replace('% ABV','')\n",
    "    beer_list.append(beer_dict)"
   ]
  },
  {
   "cell_type": "code",
   "execution_count": 11,
   "id": "f078b402",
   "metadata": {},
   "outputs": [],
   "source": [
    "df = pd.DataFrame(beer_list)"
   ]
  },
  {
   "cell_type": "code",
   "execution_count": 12,
   "id": "55df87c5",
   "metadata": {},
   "outputs": [],
   "source": [
    "df.to_csv('KcBierCoBeers.csv')"
   ]
  },
  {
   "cell_type": "code",
   "execution_count": 13,
   "id": "4c4a0bf1",
   "metadata": {},
   "outputs": [],
   "source": [
    "browser.quit()"
   ]
  },
  {
   "cell_type": "code",
   "execution_count": null,
   "id": "1f0652a8",
   "metadata": {},
   "outputs": [],
   "source": []
  }
 ],
 "metadata": {
  "kernelspec": {
   "display_name": "PythonData",
   "language": "python",
   "name": "pythondata"
  },
  "language_info": {
   "codemirror_mode": {
    "name": "ipython",
    "version": 3
   },
   "file_extension": ".py",
   "mimetype": "text/x-python",
   "name": "python",
   "nbconvert_exporter": "python",
   "pygments_lexer": "ipython3",
   "version": "3.11.3"
  }
 },
 "nbformat": 4,
 "nbformat_minor": 5
}
