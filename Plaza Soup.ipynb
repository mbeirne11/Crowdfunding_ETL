{
 "cells": [
  {
   "cell_type": "code",
   "execution_count": 12,
   "id": "fbddb942",
   "metadata": {},
   "outputs": [],
   "source": [
    "from splinter import Browser\n",
    "from bs4 import BeautifulSoup as soup\n",
    "from selenium.webdriver.chrome.service import Service\n",
    "import time\n",
    "import pandas as pd"
   ]
  },
  {
   "cell_type": "code",
   "execution_count": 13,
   "id": "b62c07f1",
   "metadata": {},
   "outputs": [],
   "source": [
    "my_service = Service(executable_path='c:/chrome_driver/chromedriver.exe')\n",
    "browser = Browser('chrome', service=my_service)"
   ]
  },
  {
   "cell_type": "code",
   "execution_count": 14,
   "id": "c04274ce",
   "metadata": {},
   "outputs": [],
   "source": [
    "url = 'https://plazaliquor.bottlecapps.com/s-11144/c-1/buy-beer?typeId=2&inStock=TRUE&sortBy=7'\n",
    "browser.visit(url)"
   ]
  },
  {
   "cell_type": "code",
   "execution_count": null,
   "id": "01b08584",
   "metadata": {},
   "outputs": [],
   "source": [
    "#open chrome browser and complete the prompts"
   ]
  },
  {
   "cell_type": "code",
   "execution_count": 15,
   "id": "b7b6f70b",
   "metadata": {},
   "outputs": [],
   "source": [
    "beer_soup = soup(browser.html)"
   ]
  },
  {
   "cell_type": "code",
   "execution_count": null,
   "id": "2c441274",
   "metadata": {},
   "outputs": [],
   "source": [
    "beer_soup.find('address',class_='storelocation').find('a').text.strip().replace('\\n','').replace('                                               ','').replace('                                          ','')"
   ]
  },
  {
   "cell_type": "code",
   "execution_count": 16,
   "id": "7dde3858",
   "metadata": {},
   "outputs": [],
   "source": [
    "i = 0\n",
    "for row in beer_soup.find('address',class_='storelocation').find_all('div',class_='address-captions'):\n",
    "    i+=1\n",
    "    info = row.text.strip().replace('\\n','').replace('                                               ','').replace('                                          ','')\n",
    "    if i == 1:\n",
    "        address = info\n",
    "    if i == 2:\n",
    "        contact = info"
   ]
  },
  {
   "cell_type": "code",
   "execution_count": 17,
   "id": "de661111",
   "metadata": {},
   "outputs": [
    {
     "data": {
      "text/html": [
       "<div>\n",
       "<style scoped>\n",
       "    .dataframe tbody tr th:only-of-type {\n",
       "        vertical-align: middle;\n",
       "    }\n",
       "\n",
       "    .dataframe tbody tr th {\n",
       "        vertical-align: top;\n",
       "    }\n",
       "\n",
       "    .dataframe thead th {\n",
       "        text-align: right;\n",
       "    }\n",
       "</style>\n",
       "<table border=\"1\" class=\"dataframe\">\n",
       "  <thead>\n",
       "    <tr style=\"text-align: right;\">\n",
       "      <th></th>\n",
       "      <th>Name</th>\n",
       "      <th>Address</th>\n",
       "      <th>Contact</th>\n",
       "      <th>StoreID</th>\n",
       "    </tr>\n",
       "  </thead>\n",
       "  <tbody>\n",
       "    <tr>\n",
       "      <th>0</th>\n",
       "      <td>Plaza Liquor</td>\n",
       "      <td>4500 Belleview Avenue, Kansas City, MO 64111</td>\n",
       "      <td>(816) 531-5900</td>\n",
       "      <td>2</td>\n",
       "    </tr>\n",
       "  </tbody>\n",
       "</table>\n",
       "</div>"
      ],
      "text/plain": [
       "           Name                                       Address         Contact  \\\n",
       "0  Plaza Liquor  4500 Belleview Avenue, Kansas City, MO 64111  (816) 531-5900   \n",
       "\n",
       "   StoreID  \n",
       "0        2  "
      ]
     },
     "execution_count": 17,
     "metadata": {},
     "output_type": "execute_result"
    }
   ],
   "source": [
    "store_dict = {}\n",
    "store_dict['Name'] = 'Plaza Liquor'\n",
    "store_dict['Address'] = address\n",
    "store_dict['Contact'] = contact\n",
    "store_dict['StoreID'] = 2\n",
    "plaza_df = pd.DataFrame([store_dict])\n",
    "plaza_df"
   ]
  },
  {
   "cell_type": "code",
   "execution_count": 29,
   "id": "c190ef2b",
   "metadata": {},
   "outputs": [],
   "source": [
    "plaza_df.to_csv('PlazaInfo.csv',index = False)"
   ]
  },
  {
   "cell_type": "code",
   "execution_count": 19,
   "id": "bf37acf4",
   "metadata": {},
   "outputs": [
    {
     "name": "stdout",
     "output_type": "stream",
     "text": [
      "1\n",
      "2\n",
      "0\n",
      "5\n",
      "6\n",
      "7\n",
      "8\n",
      "9\n",
      "10\n",
      "11\n",
      "12\n",
      "13\n",
      "14\n",
      "15\n",
      "16\n",
      "17\n",
      "18\n",
      "19\n",
      "20\n",
      "21\n",
      "22\n",
      "23\n",
      "24\n",
      "25\n",
      "26\n",
      "27\n",
      "28\n",
      "29\n",
      "30\n",
      "31\n",
      "32\n",
      "33\n",
      "34\n",
      "35\n",
      "36\n",
      "37\n",
      "38\n",
      "39\n",
      "40\n",
      "0\n",
      "1\n"
     ]
    }
   ],
   "source": [
    "url = 'https://plazaliquor.bottlecapps.com/s-11144/c-1/buy-beer?typeId=2&inStock=TRUE&sortBy=7'\n",
    "browser.visit(url)\n",
    "beer_names = []\n",
    "beer_sizes = []\n",
    "beer_prices = []\n",
    "for i in range(1,3):\n",
    "    time.sleep(1)\n",
    "    beer_soup = soup(browser.html)\n",
    "    for beer in beer_soup.find_all('div',class_='second_content_product second_content'):\n",
    "        beer_name = beer.find('div',class_='productname-div').text.strip()\n",
    "        beer_size = beer.find('div',class_='product_size').text.replace('\\n','')\n",
    "        beer_price = beer.find('div',class_='price_new').text.replace(' ','').replace('\\n','').replace('$','')\n",
    "        if ('Boulevard' in beer_name) or ('City Barrel' in beer_name) or ('Kc Bier' in beer_name) or ('Martin City' in beer_name):\n",
    "            beer_names.append(beer_name)\n",
    "            beer_sizes.append(beer_size)\n",
    "            beer_prices.append(beer_price)\n",
    "    print(i)\n",
    "    xpath ='//*[@id=\"section1\"]/main/div/section/div/div[2]/div[1]/div[2]/div[3]/div[2]/div/div/div/div/div/div/ul/li[7]/a' \n",
    "    browser.find_by_xpath(xpath).click()\n",
    "for i in range(1):\n",
    "    time.sleep(1)\n",
    "    beer_soup = soup(browser.html)\n",
    "    for beer in beer_soup.find_all('div',class_='second_content_product second_content'):\n",
    "        beer_name = beer.find('div',class_='productname-div').text.strip()\n",
    "        beer_size = beer.find('div',class_='product_size').text.replace('\\n','')\n",
    "        beer_price = beer.find('div',class_='price_new').text.replace(' ','').replace('\\n','').replace('$','')\n",
    "        if ('Boulevard' in beer_name) or ('City Barrel' in beer_name) or ('Kc Bier' in beer_name) or ('Martin City' in beer_name):\n",
    "            beer_names.append(beer_name)\n",
    "            beer_sizes.append(beer_size)\n",
    "            beer_prices.append(beer_price)\n",
    "    print(i)\n",
    "    xpath ='//*[@id=\"section1\"]/main/div/section/div/div[2]/div[1]/div[2]/div[3]/div[2]/div/div/div/div/div/div/ul/li[8]/a' \n",
    "    browser.find_by_xpath(xpath).click()\n",
    "for i in range(5,41):\n",
    "    time.sleep(1)\n",
    "    beer_soup = soup(browser.html)\n",
    "    for beer in beer_soup.find_all('div',class_='second_content_product second_content'):\n",
    "        beer_name = beer.find('div',class_='productname-div').text.strip()\n",
    "        beer_size = beer.find('div',class_='product_size').text.replace('\\n','')\n",
    "        beer_price = beer.find('div',class_='price_new').text.replace(' ','').replace('\\n','').replace('$','')\n",
    "        if ('Boulevard' in beer_name) or ('City Barrel' in beer_name) or ('Kc Bier' in beer_name) or ('Martin City' in beer_name):\n",
    "            beer_names.append(beer_name)\n",
    "            beer_sizes.append(beer_size)\n",
    "            beer_prices.append(beer_price)\n",
    "    print(i)\n",
    "    xpath ='//*[@id=\"section1\"]/main/div/section/div/div[2]/div[1]/div[2]/div[3]/div[2]/div/div/div/div/div/div/ul/li[9]/a' \n",
    "    browser.find_by_xpath(xpath).click()\n",
    "for i in range(1):\n",
    "    time.sleep(1)\n",
    "    beer_soup = soup(browser.html)\n",
    "    for beer in beer_soup.find_all('div',class_='second_content_product second_content'):\n",
    "        beer_name = beer.find('div',class_='productname-div').text.strip()\n",
    "        beer_size = beer.find('div',class_='product_size').text.replace('\\n','')\n",
    "        beer_price = beer.find('div',class_='price_new').text.replace(' ','').replace('\\n','').replace('$','')\n",
    "        if ('Boulevard' in beer_name) or ('City Barrel' in beer_name) or ('Kc Bier' in beer_name) or ('Martin City' in beer_name):\n",
    "            beer_names.append(beer_name)\n",
    "            beer_sizes.append(beer_size)\n",
    "            beer_prices.append(beer_price)\n",
    "    print(i)\n",
    "    xpath ='//*[@id=\"section1\"]/main/div/section/div/div[2]/div[1]/div[2]/div[3]/div[2]/div/div/div/div/div/div/ul/li[8]/a' \n",
    "    browser.find_by_xpath(xpath).click()\n",
    "for i in range(1,2):\n",
    "    time.sleep(1)\n",
    "    beer_soup = soup(browser.html)\n",
    "    for beer in beer_soup.find_all('div',class_='second_content_product second_content'):\n",
    "        beer_name = beer.find('div',class_='productname-div').text.strip()\n",
    "        beer_size = beer.find('div',class_='product_size').text.replace('\\n','')\n",
    "        beer_price = beer.find('div',class_='price_new').text.replace(' ','').replace('\\n','').replace('$','')\n",
    "        if ('Boulevard' in beer_name) or ('City Barrel' in beer_name) or ('Kc Bier' in beer_name) or ('Martin City' in beer_name):\n",
    "            beer_names.append(beer_name)\n",
    "            beer_sizes.append(beer_size)\n",
    "            beer_prices.append(beer_price)\n",
    "    print(i)\n",
    "    xpath ='//*[@id=\"section1\"]/main/div/section/div/div[2]/div[1]/div[2]/div[3]/div[2]/div/div/div/div/div/div/ul/li[7]/a' \n",
    "    browser.find_by_xpath(xpath).click()\n",
    "beer_soup = soup(browser.html)\n",
    "for beer in beer_soup.find_all('div',class_='second_content_product second_content'):\n",
    "        beer_name = beer.find('div',class_='productname-div').text.strip()\n",
    "        beer_size = beer.find('div',class_='product_size').text.replace('\\n','')\n",
    "        beer_price = beer.find('div',class_='price_new').text.replace(' ','').replace('\\n','').replace('$','')\n",
    "        if ('Boulevard' in beer_name) or ('City Barrel' in beer_name) or ('Kc Bier' in beer_name) or ('Martin City' in beer_name):\n",
    "            beer_names.append(beer_name)\n",
    "            beer_sizes.append(beer_size)\n",
    "            beer_prices.append(beer_price)"
   ]
  },
  {
   "cell_type": "code",
   "execution_count": null,
   "id": "96b12a20",
   "metadata": {},
   "outputs": [],
   "source": [
    "beer_names"
   ]
  },
  {
   "cell_type": "code",
   "execution_count": 25,
   "id": "da4ebfdd",
   "metadata": {},
   "outputs": [],
   "source": [
    "beer_dict = {'Name':beer_names, 'QTY': beer_sizes,'Price':beer_prices}"
   ]
  },
  {
   "cell_type": "code",
   "execution_count": 26,
   "id": "f7d9a897",
   "metadata": {},
   "outputs": [],
   "source": [
    "df = pd.DataFrame(beer_dict)"
   ]
  },
  {
   "cell_type": "code",
   "execution_count": 27,
   "id": "2de23856",
   "metadata": {},
   "outputs": [
    {
     "data": {
      "text/html": [
       "<div>\n",
       "<style scoped>\n",
       "    .dataframe tbody tr th:only-of-type {\n",
       "        vertical-align: middle;\n",
       "    }\n",
       "\n",
       "    .dataframe tbody tr th {\n",
       "        vertical-align: top;\n",
       "    }\n",
       "\n",
       "    .dataframe thead th {\n",
       "        text-align: right;\n",
       "    }\n",
       "</style>\n",
       "<table border=\"1\" class=\"dataframe\">\n",
       "  <thead>\n",
       "    <tr style=\"text-align: right;\">\n",
       "      <th></th>\n",
       "      <th>Name</th>\n",
       "      <th>QTY</th>\n",
       "      <th>Price</th>\n",
       "    </tr>\n",
       "  </thead>\n",
       "  <tbody>\n",
       "    <tr>\n",
       "      <th>0</th>\n",
       "      <td>Boulevard Blvr&amp;d Barrel-aged Variety 6pk Bottle</td>\n",
       "      <td>6-Pack 12 Oz</td>\n",
       "      <td>19.99</td>\n",
       "    </tr>\n",
       "    <tr>\n",
       "      <th>1</th>\n",
       "      <td>Boulevard Cinnamon Bun Ale</td>\n",
       "      <td>4-Pack 12 Oz</td>\n",
       "      <td>15.99</td>\n",
       "    </tr>\n",
       "    <tr>\n",
       "      <th>2</th>\n",
       "      <td>Boulevard Dark Truth 6pk</td>\n",
       "      <td>6-Pack 12 Oz</td>\n",
       "      <td>14.99</td>\n",
       "    </tr>\n",
       "    <tr>\n",
       "      <th>3</th>\n",
       "      <td>Boulevard Firestone Walker Ba Wheat Wine Ale</td>\n",
       "      <td>4-Pack 16 Oz</td>\n",
       "      <td>15.29</td>\n",
       "    </tr>\n",
       "    <tr>\n",
       "      <th>4</th>\n",
       "      <td>Boulevard Mango Jungle 6pk</td>\n",
       "      <td>6-Pack 12 Oz</td>\n",
       "      <td>10.49</td>\n",
       "    </tr>\n",
       "    <tr>\n",
       "      <th>...</th>\n",
       "      <td>...</td>\n",
       "      <td>...</td>\n",
       "      <td>...</td>\n",
       "    </tr>\n",
       "    <tr>\n",
       "      <th>61</th>\n",
       "      <td>Kc Bier Co. Fountain City Wheat</td>\n",
       "      <td>6-Pack 12 Oz</td>\n",
       "      <td>11.49</td>\n",
       "    </tr>\n",
       "    <tr>\n",
       "      <th>62</th>\n",
       "      <td>Martin City Fallback Brown 6pk</td>\n",
       "      <td>6-Pack 12 Oz</td>\n",
       "      <td>10.29</td>\n",
       "    </tr>\n",
       "    <tr>\n",
       "      <th>63</th>\n",
       "      <td>Martin City Oktoberfest 6pk</td>\n",
       "      <td>6-Pack 12 Oz</td>\n",
       "      <td>10.49</td>\n",
       "    </tr>\n",
       "    <tr>\n",
       "      <th>64</th>\n",
       "      <td>Martin City Hardway Ipa 6pk Cn</td>\n",
       "      <td>6-Pack 12 Oz</td>\n",
       "      <td>9.99</td>\n",
       "    </tr>\n",
       "    <tr>\n",
       "      <th>65</th>\n",
       "      <td>Martin City Hazy Way Ipa 6pk Cn</td>\n",
       "      <td>6-Pack 12 Oz</td>\n",
       "      <td>10.99</td>\n",
       "    </tr>\n",
       "  </tbody>\n",
       "</table>\n",
       "<p>66 rows × 3 columns</p>\n",
       "</div>"
      ],
      "text/plain": [
       "                                               Name           QTY  Price\n",
       "0   Boulevard Blvr&d Barrel-aged Variety 6pk Bottle  6-Pack 12 Oz  19.99\n",
       "1                        Boulevard Cinnamon Bun Ale  4-Pack 12 Oz  15.99\n",
       "2                          Boulevard Dark Truth 6pk  6-Pack 12 Oz  14.99\n",
       "3      Boulevard Firestone Walker Ba Wheat Wine Ale  4-Pack 16 Oz  15.29\n",
       "4                        Boulevard Mango Jungle 6pk  6-Pack 12 Oz  10.49\n",
       "..                                              ...           ...    ...\n",
       "61                  Kc Bier Co. Fountain City Wheat  6-Pack 12 Oz  11.49\n",
       "62                   Martin City Fallback Brown 6pk  6-Pack 12 Oz  10.29\n",
       "63                      Martin City Oktoberfest 6pk  6-Pack 12 Oz  10.49\n",
       "64                   Martin City Hardway Ipa 6pk Cn  6-Pack 12 Oz   9.99\n",
       "65                  Martin City Hazy Way Ipa 6pk Cn  6-Pack 12 Oz  10.99\n",
       "\n",
       "[66 rows x 3 columns]"
      ]
     },
     "execution_count": 27,
     "metadata": {},
     "output_type": "execute_result"
    }
   ],
   "source": [
    "df"
   ]
  },
  {
   "cell_type": "code",
   "execution_count": 30,
   "id": "80d59ab8",
   "metadata": {},
   "outputs": [],
   "source": [
    "df.to_csv('PlazaBeers.csv')"
   ]
  },
  {
   "cell_type": "code",
   "execution_count": 24,
   "id": "2d67f6b7",
   "metadata": {},
   "outputs": [],
   "source": [
    "browser.quit()"
   ]
  },
  {
   "cell_type": "code",
   "execution_count": null,
   "id": "d0c3a0f8",
   "metadata": {},
   "outputs": [],
   "source": []
  }
 ],
 "metadata": {
  "kernelspec": {
   "display_name": "Python 3 (ipykernel)",
   "language": "python",
   "name": "python3"
  },
  "language_info": {
   "codemirror_mode": {
    "name": "ipython",
    "version": 3
   },
   "file_extension": ".py",
   "mimetype": "text/x-python",
   "name": "python",
   "nbconvert_exporter": "python",
   "pygments_lexer": "ipython3",
   "version": "3.11.3"
  }
 },
 "nbformat": 4,
 "nbformat_minor": 5
}
