{
 "cells": [
  {
   "cell_type": "code",
   "execution_count": 5,
   "id": "addaaa7a",
   "metadata": {},
   "outputs": [],
   "source": [
    "from splinter import Browser\n",
    "from bs4 import BeautifulSoup as soup\n",
    "from selenium.webdriver.chrome.service import Service\n",
    "import time\n",
    "import pandas as pd"
   ]
  },
  {
   "cell_type": "code",
   "execution_count": 6,
   "id": "465f341b",
   "metadata": {},
   "outputs": [],
   "source": [
    "my_service = Service(executable_path='c:/chrome_driver/chromedriver.exe')\n",
    "browser = Browser('chrome', service=my_service)"
   ]
  },
  {
   "cell_type": "code",
   "execution_count": 7,
   "id": "b455a956",
   "metadata": {},
   "outputs": [],
   "source": [
    "url = 'https://www.boulevard.com/beer/our-beers/'\n",
    "browser.visit(url)"
   ]
  },
  {
   "cell_type": "code",
   "execution_count": 8,
   "id": "ef61b60a",
   "metadata": {},
   "outputs": [],
   "source": [
    "beer_soup = soup(browser.html)"
   ]
  },
  {
   "cell_type": "code",
   "execution_count": 9,
   "id": "b07509be",
   "metadata": {},
   "outputs": [
    {
     "data": {
      "text/html": [
       "<div>\n",
       "<style scoped>\n",
       "    .dataframe tbody tr th:only-of-type {\n",
       "        vertical-align: middle;\n",
       "    }\n",
       "\n",
       "    .dataframe tbody tr th {\n",
       "        vertical-align: top;\n",
       "    }\n",
       "\n",
       "    .dataframe thead th {\n",
       "        text-align: right;\n",
       "    }\n",
       "</style>\n",
       "<table border=\"1\" class=\"dataframe\">\n",
       "  <thead>\n",
       "    <tr style=\"text-align: right;\">\n",
       "      <th></th>\n",
       "      <th>Name</th>\n",
       "      <th>Address</th>\n",
       "      <th>Contact</th>\n",
       "      <th>BreweryID</th>\n",
       "    </tr>\n",
       "  </thead>\n",
       "  <tbody>\n",
       "    <tr>\n",
       "      <th>0</th>\n",
       "      <td>Boulevard</td>\n",
       "      <td>2501 Southwest BoulevardKansas City, MO 64108</td>\n",
       "      <td>(816) 474-7095</td>\n",
       "      <td>1</td>\n",
       "    </tr>\n",
       "  </tbody>\n",
       "</table>\n",
       "</div>"
      ],
      "text/plain": [
       "        Name                                         Address         Contact  \\\n",
       "0  Boulevard  2501 Southwest BoulevardKansas City, MO 64108   (816) 474-7095   \n",
       "\n",
       "   BreweryID  \n",
       "0          1  "
      ]
     },
     "execution_count": 9,
     "metadata": {},
     "output_type": "execute_result"
    }
   ],
   "source": [
    "brewery_dict = {}\n",
    "\n",
    "brewery_dict['Name'] = 'Boulevard'\n",
    "brewery_dict['Address'] = beer_soup.find('div',class_='location col-xs-12 col-md-4').find('a').text\n",
    "brewery_dict['Contact'] = beer_soup.find('div',class_='location col-xs-12 col-md-4').find('p',class_='phone').text\n",
    "brewery_dict['BreweryID'] = 1\n",
    "boulevard_df = pd.DataFrame([brewery_dict])\n",
    "boulevard_df"
   ]
  },
  {
   "cell_type": "code",
   "execution_count": 10,
   "id": "1fe82a0c",
   "metadata": {},
   "outputs": [],
   "source": [
    "boulevard_df.to_csv('BoulevardInfo.csv')"
   ]
  },
  {
   "cell_type": "code",
   "execution_count": 11,
   "id": "fbd1b426",
   "metadata": {},
   "outputs": [
    {
     "data": {
      "text/plain": [
       "['https://www.boulevard.com/beerinfo/sure-look/',\n",
       " 'https://www.boulevard.com/beerinfo/blvd-89/',\n",
       " 'https://www.boulevard.com/beerinfo/bobs-47-oktoberfest/',\n",
       " 'https://www.boulevard.com/beerinfo/cranberry-tank-7/',\n",
       " 'https://www.boulevard.com/beerinfo/dark-crator/',\n",
       " 'https://www.boulevard.com/beerinfo/frozen-raider/',\n",
       " 'https://www.boulevard.com/beerinfo/jokers-wit/',\n",
       " 'https://www.boulevard.com/beerinfo/pale-ale/',\n",
       " 'https://www.boulevard.com/beerinfo/southwest-blvd/',\n",
       " 'https://www.boulevard.com/beerinfo/space-camper-cosmic-ipa/',\n",
       " 'https://www.boulevard.com/beerinfo/strawberry-wheat/',\n",
       " 'https://www.boulevard.com/beerinfo/tank-7/',\n",
       " 'https://www.boulevard.com/beerinfo/unfiltered-wheat-beer/',\n",
       " 'https://www.boulevard.com/beerinfo/berry-noir/',\n",
       " 'https://www.boulevard.com/beerinfo/bourbon-barrel-quad/',\n",
       " 'https://www.boulevard.com/beerinfo/dark-truth-stout/',\n",
       " 'https://www.boulevard.com/beerinfo/flying-start/',\n",
       " 'https://www.boulevard.com/beerinfo/rye-on-rye-2/',\n",
       " 'https://www.boulevard.com/beerinfo/single-wide-i-p-a/',\n",
       " 'https://www.boulevard.com/beerinfo/the-sixth-glass/',\n",
       " 'https://www.boulevard.com/beerinfo/whiskey-barrel-stout/',\n",
       " 'https://www.boulevard.com/beerinfo/another-round/',\n",
       " 'https://www.boulevard.com/beerinfo/barrel-aged-imperial-porter/',\n",
       " 'https://www.boulevard.com/beerinfo/barrel-aged-imperial-stout-and-barleywine-blend/',\n",
       " 'https://www.boulevard.com/beerinfo/barrel-aged-wheat-wine/',\n",
       " 'https://www.boulevard.com/beerinfo/belgian-abbey-style/',\n",
       " 'https://www.boulevard.com/beerinfo/biere-de-garde/',\n",
       " 'https://www.boulevard.com/beerinfo/brewa-bunga-cove/',\n",
       " 'https://www.boulevard.com/beerinfo/buck-oneil-barrel-aged-saison/',\n",
       " 'https://www.boulevard.com/beerinfo/chocolate-ale-2023/',\n",
       " 'https://www.boulevard.com/beerinfo/chocolate-cherry-dipped/',\n",
       " 'https://www.boulevard.com/beerinfo/churro-grande/',\n",
       " 'https://www.boulevard.com/beerinfo/cinnamon-bun-ale/',\n",
       " 'https://www.boulevard.com/beerinfo/creme-brulee/',\n",
       " 'https://www.boulevard.com/beerinfo/cybersonic-c-hops/',\n",
       " 'https://www.boulevard.com/beerinfo/dank-7/',\n",
       " 'https://www.boulevard.com/beerinfo/dream-vision/',\n",
       " 'https://www.boulevard.com/beerinfo/five-bourbon-barrel-imperial-stout/',\n",
       " 'https://www.boulevard.com/beerinfo/ginger-lemon-radler/',\n",
       " 'https://www.boulevard.com/beerinfo/irish-ale/',\n",
       " 'https://www.boulevard.com/beerinfo/magic-drip/',\n",
       " 'https://www.boulevard.com/beerinfo/mango-jungle/',\n",
       " 'https://www.boulevard.com/beerinfo/maple-mood/',\n",
       " 'https://www.boulevard.com/beerinfo/milk-stout/',\n",
       " 'https://www.boulevard.com/beerinfo/more-smore/',\n",
       " 'https://www.boulevard.com/beerinfo/nutcracker-ale/',\n",
       " 'https://www.boulevard.com/beerinfo/proper-pour/',\n",
       " 'https://www.boulevard.com/beerinfo/proper-pour-2023/',\n",
       " 'https://www.boulevard.com/beerinfo/rum-barrel-aged-spice-cake/',\n",
       " 'https://www.boulevard.com/beerinfo/saison/',\n",
       " 'https://www.boulevard.com/beerinfo/hyper-warp/',\n",
       " 'https://www.boulevard.com/beerinfo/space-camper-red-spectra/',\n",
       " 'https://www.boulevard.com/beerinfo/alpha-vapor/',\n",
       " 'https://www.boulevard.com/beerinfo/space-camper-delta-ray-ipa/',\n",
       " 'https://www.boulevard.com/beerinfo/gigahop-ipa/',\n",
       " 'https://www.boulevard.com/beerinfo/lotus-aura/',\n",
       " 'https://www.boulevard.com/beerinfo/nova-flare/',\n",
       " 'https://www.boulevard.com/beerinfo/star-haze/',\n",
       " 'https://www.boulevard.com/beerinfo/teal-rising/',\n",
       " 'https://www.boulevard.com/beerinfo/tenpenny/',\n",
       " 'https://www.boulevard.com/beerinfo/terror-from-the-deep/',\n",
       " 'https://www.boulevard.com/beerinfo/tropicslam/',\n",
       " 'https://www.boulevard.com/beerinfo/unfiltered-grapefruit-wheat/',\n",
       " 'https://www.boulevard.com/beerinfo/zon-belgian-style-witbier/']"
      ]
     },
     "execution_count": 11,
     "metadata": {},
     "output_type": "execute_result"
    }
   ],
   "source": [
    "beer_links = []\n",
    "for a in beer_soup.find_all('div',class_='beer-category'):\n",
    "    for link in a.find_all('a'):\n",
    "        if (link['href'] in beer_links) == False:\n",
    "            beer_links.append(link['href'])\n",
    "beer_links"
   ]
  },
  {
   "cell_type": "code",
   "execution_count": 12,
   "id": "37713bcc",
   "metadata": {},
   "outputs": [
    {
     "name": "stdout",
     "output_type": "stream",
     "text": [
      "{'Name': 'Ah, Sure Look', 'Type': 'Dark Lager ', 'ABV': '5.5'}\n",
      "{'Name': 'BLVD ’89', 'Type': 'Lager', 'ABV': '4.5'}\n",
      "{'Name': 'Bob’s ’47 Oktoberfest', 'Type': 'Oktoberfest / Märzen', 'ABV': '5.9'}\n",
      "{'Name': 'Cranberry Tank 7', 'Type': 'Smokestack Limited Release ', 'ABV': '8.5'}\n",
      "{'Name': 'Dark Crator', 'Type': 'Barrel-Aged Dopplebock ', 'ABV': '12.5'}\n",
      "{'Name': 'Frozen Raider', 'Type': 'Double Cold IPA ', 'ABV': '8.0'}\n",
      "{'Name': 'Joker’s Wit', 'Type': 'Belgian-style Double Witbier ', 'ABV': '7.4'}\n",
      "{'Name': 'Pale Ale', 'Type': 'American Pale Ale', 'ABV': '5.4'}\n",
      "{'Name': 'Southwest BLVD', 'Type': 'Lager with Salt & Lime ', 'ABV': '4.5'}\n",
      "{'Name': 'Space Camper Cosmic IPA', 'Type': 'India Pale Ale', 'ABV': '5.9'}\n",
      "{'Name': 'Strawberry Wheat', 'Type': 'Limited Release ', 'ABV': '4.4'}\n",
      "{'Name': 'Tank 7', 'Type': 'American Saison Ale', 'ABV': '8.5'}\n",
      "{'Name': 'Unfiltered Wheat Beer', 'Type': 'Hazy American Classic', 'ABV': '4.4'}\n",
      "{'Name': 'Berry Noir', 'Type': 'Sour Ale with Mixed Berries', 'ABV': '4.2'}\n",
      "{'Name': 'Bourbon Barrel Quad', 'Type': 'Barrel-Aged Ale', 'ABV': '12.2'}\n",
      "{'Name': 'Dark Truth Stout', 'Type': 'Imperial Stout', 'ABV': '9.7'}\n",
      "{'Name': 'Flying Start', 'Type': 'Non-Alcoholic IPA', 'ABV': '0.5'}\n",
      "{'Name': 'Rye on Rye', 'Type': 'Whiskey Barrel-Aged Ale ', 'ABV': '12.2'}\n",
      "{'Name': 'Single-Wide IPA', 'Type': 'American India Pale Ale', 'ABV': '5.7'}\n",
      "{'Name': 'The Sixth Glass', 'Type': 'Quadrupel Ale', 'ABV': '10.2'}\n",
      "{'Name': 'Whiskey Barrel Stout', 'Type': 'Barrel-Aged Imperial Stout', 'ABV': '11.8'}\n",
      "{'Name': 'Another Round', 'Type': 'Imperial Wheat Beer ', 'ABV': '8.0'}\n",
      "{'Name': 'Barrel-Aged Imperial Porter', 'Type': \"Brewer's Choice \", 'ABV': '13.9'}\n",
      "{'Name': 'Barrel-Aged Imperial Stout And Barleywine Blend', 'Type': \"Brewer's Choice \", 'ABV': '14.2'}\n",
      "{'Name': 'Barrel-Aged Wheat Wine', 'Type': 'Firestone Walker Brewery Collaboration ', 'ABV': '9.9'}\n",
      "{'Name': 'Belgian Abbey-Style', 'Type': 'Single ', 'ABV': '5.2'}\n",
      "{'Name': 'Bière De Garde', 'Type': \"Brewer's Choice - Rob & Sterling \", 'ABV': '5.9'}\n",
      "{'Name': 'Brewa Bunga Cove', 'Type': 'Imperial Golden Stout with Coffee, Hazelnut and Vanilla', 'ABV': '8'}\n",
      "{'Name': 'Buck O’Neil – Barrel-Aged Saison', 'Type': 'Chardonnay Barrel-Aged Saison', 'ABV': '9.0'}\n",
      "{'Name': 'Chocolate Ale (2023)', 'Type': 'Ale with cacao nibs and vanilla extract', 'ABV': '8.7'}\n",
      "{'Name': 'Chocolate-Cherry Dipped', 'Type': 'Imperial Stout ', 'ABV': '15'}\n",
      "{'Name': 'Churro Grande', 'Type': 'Barrel-Aged Imperial Brown ', 'ABV': '12'}\n",
      "{'Name': 'Cinnamon Bun Ale', 'Type': 'Imperial Brown Ale With Cinnamon And Vanilla', 'ABV': '9.5'}\n",
      "{'Name': 'Crème Brûlée', 'Type': 'Barleywine Ale', 'ABV': '13.3'}\n",
      "{'Name': 'Cybersonic C-Hops', 'Type': 'Double IPA', 'ABV': '8.5'}\n",
      "{'Name': 'Dank 7', 'Type': 'Belgian-style IPA ', 'ABV': '7'}\n",
      "{'Name': 'Dream Vision', 'Type': 'Orange Vanilla Ale ', 'ABV': '5.7'}\n",
      "{'Name': 'Five Bourbon Barrel Imperial Stout', 'Type': \"Brewer's Choice \", 'ABV': '13.3'}\n",
      "{'Name': 'Ginger Lemon Radler', 'Type': 'Radler', 'ABV': '4.1'}\n",
      "{'Name': 'Irish Ale', 'Type': 'Irish Red Ale', 'ABV': '5.8'}\n",
      "{'Name': 'Magic Drip', 'Type': 'Barrel-Aged Wheated Imperial Stout with Colombian Coffee', 'ABV': '13.5'}\n",
      "{'Name': 'Mango Jungle', 'Type': 'Uncharted Ale ', 'ABV': '4.2'}\n",
      "{'Name': 'Maple Mood', 'Type': 'Barrel-Aged Imperial Stout ', 'ABV': '12.5'}\n",
      "{'Name': 'Milk Stout', 'Type': \"Brewer's Choice \", 'ABV': '5.8'}\n",
      "{'Name': 'More S’more', 'Type': 'Barrel-Aged Imperial Stout ', 'ABV': '11.8'}\n",
      "{'Name': 'Nutcracker Ale', 'Type': 'Winter Warmer', 'ABV': '7.8'}\n",
      "{'Name': 'Proper Pour', 'Type': 'Double barrel-aged imperial stout', 'ABV': '13.8'}\n",
      "{'Name': 'Proper Pour – 2023', 'Type': 'Double barrel-aged imperial stout aged in cabernet barrels ', 'ABV': '12.6'}\n",
      "{'Name': 'Rum Barrel-Aged Spice Cake', 'Type': 'Imperial Brown Ale', 'ABV': '12.7'}\n",
      "{'Name': 'Saison', 'Type': \"Brewer's Choice \", 'ABV': '5.9'}\n",
      "{'Name': 'Space Camper Hyper Warp', 'Type': 'Black IPA', 'ABV': '5.9'}\n",
      "{'Name': 'Space Camper Red Spectra', 'Type': 'Red IPA', 'ABV': '5.7'}\n",
      "{'Name': 'Space Camper | Alpha Vapor', 'Type': 'Nebulous IPA', 'ABV': '5.9'}\n",
      "{'Name': 'Space Camper | Delta Ray IPA', 'Type': 'Intergalactic Hazy IPA ', 'ABV': '4.4'}\n",
      "{'Name': 'Space Camper | Gigahop IPA', 'Type': 'Dual Hemisphere IPA', 'ABV': '5.9'}\n",
      "{'Name': 'Space Camper | Lotus Aura', 'Type': 'India Pale Ale', 'ABV': '4.9'}\n",
      "{'Name': 'Space Camper | Nova Flare', 'Type': 'West Coast-Style IPA ', 'ABV': '5.9'}\n",
      "{'Name': 'Space Camper | Star Haze', 'Type': 'India Pale Ale', 'ABV': '5.9'}\n",
      "{'Name': 'Teal Rising', 'Type': 'Proud Pilsner ', 'ABV': '4.0'}\n",
      "{'Name': 'Tenpenny', 'Type': 'American Bitter ', 'ABV': '4.2'}\n",
      "{'Name': 'Terror From the Deep', 'Type': 'Double IPA ', 'ABV': '8.0'}\n",
      "{'Name': 'Tropic Slam', 'Type': 'Tart Island Ale ', 'ABV': '4.2'}\n",
      "{'Name': 'Unfiltered Grapefruit Wheat', 'Type': 'Hazy American Classic', 'ABV': '4.4'}\n",
      "{'Name': 'Zon', 'Type': 'Belgian-Style Witbier', 'ABV': '4.4'}\n"
     ]
    }
   ],
   "source": [
    "beer_list = []\n",
    "for beer in beer_links:\n",
    "    beer_dict = {}\n",
    "    browser.visit(beer)\n",
    "    time.sleep(1)\n",
    "    beer_soup = soup(browser.html)\n",
    "    beer_dict['Name'] = beer_soup.find('h4').text\n",
    "    beer_dict['Type'] = beer_soup.find('p',class_='subhead').text\n",
    "    beer_dict['ABV'] =  beer_soup.find('div',class_='stat-value').text.strip().replace('%','')\n",
    "    print(beer_dict)\n",
    "    beer_list.append(beer_dict)"
   ]
  },
  {
   "cell_type": "code",
   "execution_count": 13,
   "id": "fd28431a",
   "metadata": {},
   "outputs": [],
   "source": [
    "df = pd.DataFrame(beer_list)"
   ]
  },
  {
   "cell_type": "code",
   "execution_count": 14,
   "id": "06a59bee",
   "metadata": {},
   "outputs": [],
   "source": [
    "df.to_csv('BoulevardBeers.csv')"
   ]
  },
  {
   "cell_type": "code",
   "execution_count": 15,
   "id": "8c1a6446",
   "metadata": {},
   "outputs": [],
   "source": [
    "browser.quit()"
   ]
  },
  {
   "cell_type": "code",
   "execution_count": null,
   "id": "19d7372b",
   "metadata": {},
   "outputs": [],
   "source": []
  }
 ],
 "metadata": {
  "kernelspec": {
   "display_name": "PythonData",
   "language": "python",
   "name": "pythondata"
  },
  "language_info": {
   "codemirror_mode": {
    "name": "ipython",
    "version": 3
   },
   "file_extension": ".py",
   "mimetype": "text/x-python",
   "name": "python",
   "nbconvert_exporter": "python",
   "pygments_lexer": "ipython3",
   "version": "3.11.3"
  }
 },
 "nbformat": 4,
 "nbformat_minor": 5
}
