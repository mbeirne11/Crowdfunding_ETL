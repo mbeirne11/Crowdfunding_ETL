{
 "cells": [
  {
   "cell_type": "code",
   "execution_count": 1,
   "id": "d447b551",
   "metadata": {},
   "outputs": [],
   "source": [
    "from splinter import Browser\n",
    "from bs4 import BeautifulSoup as soup\n",
    "from selenium.webdriver.chrome.service import Service\n",
    "import time\n",
    "import pandas as pd"
   ]
  },
  {
   "cell_type": "code",
   "execution_count": 2,
   "id": "30060754",
   "metadata": {},
   "outputs": [],
   "source": [
    "my_service = Service(executable_path='c:/chrome_driver/chromedriver.exe')\n",
    "browser = Browser('chrome', service=my_service)"
   ]
  },
  {
   "cell_type": "code",
   "execution_count": 3,
   "id": "0a85573f",
   "metadata": {},
   "outputs": [],
   "source": [
    "url = 'https://www.citybarrelbrewing.com/'\n",
    "browser.visit(url)\n",
    "beer_soup = soup(browser.html)"
   ]
  },
  {
   "cell_type": "code",
   "execution_count": 4,
   "id": "3e23c0d5",
   "metadata": {},
   "outputs": [],
   "source": [
    "address = ''\n",
    "for i in beer_soup.find('div',class_='BaOVQ8 tz5f0K comp-ijv3jszy wixui-rich-text').find_all('p',class_='font_8 wixui-rich-text__text'):\n",
    "    address= address+' ' +(i.find('span',class_='wixui-rich-text__text').text)"
   ]
  },
  {
   "cell_type": "code",
   "execution_count": 5,
   "id": "642727f7",
   "metadata": {},
   "outputs": [],
   "source": [
    "for i in beer_soup.find('div', class_ = 'BaOVQ8 tz5f0K comp-ijv3p97f wixui-rich-text').find_all('a',class_='wixui-rich-text__text'):\n",
    "    phone = (i.text)"
   ]
  },
  {
   "cell_type": "code",
   "execution_count": 6,
   "id": "7844783b",
   "metadata": {},
   "outputs": [
    {
     "data": {
      "text/html": [
       "<div>\n",
       "<style scoped>\n",
       "    .dataframe tbody tr th:only-of-type {\n",
       "        vertical-align: middle;\n",
       "    }\n",
       "\n",
       "    .dataframe tbody tr th {\n",
       "        vertical-align: top;\n",
       "    }\n",
       "\n",
       "    .dataframe thead th {\n",
       "        text-align: right;\n",
       "    }\n",
       "</style>\n",
       "<table border=\"1\" class=\"dataframe\">\n",
       "  <thead>\n",
       "    <tr style=\"text-align: right;\">\n",
       "      <th></th>\n",
       "      <th>Name</th>\n",
       "      <th>Address</th>\n",
       "      <th>Contact</th>\n",
       "      <th>BreweryID</th>\n",
       "    </tr>\n",
       "  </thead>\n",
       "  <tbody>\n",
       "    <tr>\n",
       "      <th>0</th>\n",
       "      <td>City Barrel</td>\n",
       "      <td>1740 Holmes Street Kansas City, MO 64108</td>\n",
       "      <td>816-298-7008</td>\n",
       "      <td>2</td>\n",
       "    </tr>\n",
       "  </tbody>\n",
       "</table>\n",
       "</div>"
      ],
      "text/plain": [
       "          Name                                    Address       Contact  \\\n",
       "0  City Barrel   1740 Holmes Street Kansas City, MO 64108  816-298-7008   \n",
       "\n",
       "   BreweryID  \n",
       "0          2  "
      ]
     },
     "execution_count": 6,
     "metadata": {},
     "output_type": "execute_result"
    }
   ],
   "source": [
    "brewery_dict = {}\n",
    "\n",
    "brewery_dict['Name'] = 'City Barrel'\n",
    "brewery_dict['Address'] = address\n",
    "brewery_dict['Contact'] = phone\n",
    "brewery_dict['BreweryID'] = 2\n",
    "city_barrel_df = pd.DataFrame([brewery_dict])\n",
    "city_barrel_df"
   ]
  },
  {
   "cell_type": "code",
   "execution_count": 7,
   "id": "a8473ec4",
   "metadata": {},
   "outputs": [],
   "source": [
    "city_barrel_df.to_csv('CityBarrelInfo.csv')"
   ]
  },
  {
   "cell_type": "code",
   "execution_count": 8,
   "id": "fd38ca3f",
   "metadata": {},
   "outputs": [],
   "source": [
    "url = 'https://business.untappd.com/embeds/iframes/30385/117070'\n",
    "browser.visit(url)\n",
    "beer_soup = soup(browser.html)"
   ]
  },
  {
   "cell_type": "code",
   "execution_count": 9,
   "id": "c3a5a42f",
   "metadata": {},
   "outputs": [],
   "source": [
    "beer_list = []\n",
    "beer_types = []\n",
    "for beer in beer_soup.find_all('p',class_='item-name'):\n",
    "    try:\n",
    "        beer_list.append(beer.find('a').text.strip())\n",
    "    except:\n",
    "        break\n"
   ]
  },
  {
   "cell_type": "code",
   "execution_count": 10,
   "id": "f45ac9c2",
   "metadata": {},
   "outputs": [],
   "source": [
    "beer_abvs = []\n",
    "\n",
    "for beer in beer_soup.find_all('div',class_='item-meta'):\n",
    "    try:\n",
    "        beer_abvs.append(beer.find('span',class_='item-abv').text.strip())\n",
    "    except:\n",
    "        break"
   ]
  },
  {
   "cell_type": "code",
   "execution_count": 11,
   "id": "21778cc9",
   "metadata": {},
   "outputs": [],
   "source": [
    "beer_names = []\n",
    "beer_types = []\n",
    "beer_abvs = []\n",
    "for beer in beer_soup.find_all('p',class_='item-name'):\n",
    "    try:\n",
    "        beer_names.append(beer.find('a').text.strip())\n",
    "        beer_types.append(beer.find('span',class_='item-category').text.strip())\n",
    "    except:\n",
    "            break\n",
    "for abv in beer_soup.find_all('div',class_='item-meta'):\n",
    "    try:\n",
    "        beer_abvs.append(abv.find('span',class_='item-abv').text.strip().replace('% ABV',''))\n",
    "    except:\n",
    "        break\n",
    "    "
   ]
  },
  {
   "cell_type": "code",
   "execution_count": 12,
   "id": "78e0ffbd",
   "metadata": {},
   "outputs": [
    {
     "data": {
      "text/plain": [
       "{'Name': ['Rad AF',\n",
       "  'High Society',\n",
       "  'Hell Yeah',\n",
       "  'Daydrinker',\n",
       "  'Space Dragon',\n",
       "  'Creative Juice',\n",
       "  'Book Smart',\n",
       "  'Oktoberfest',\n",
       "  'Strawberry Shortcake Bar',\n",
       "  'Rad Hops of Destiny',\n",
       "  'Words Are Hard',\n",
       "  'Mango Tango Dreamwave',\n",
       "  'Homestead Peach',\n",
       "  'Pineapple Mango Hard Seltzer',\n",
       "  'Crossroads Apfel',\n",
       "  'Fest Bier',\n",
       "  \"This Meeting Could've Been An Email\",\n",
       "  'Sidewalk Surfer'],\n",
       " 'Type': ['IPA - New England',\n",
       "  'Lager - American',\n",
       "  'Wheat Beer - American Pale Wheat',\n",
       "  'IPA - New England',\n",
       "  'IPA - New England',\n",
       "  'Pale Ale - New England',\n",
       "  'IPA - New England',\n",
       "  'Märzen',\n",
       "  'IPA - Milkshake',\n",
       "  'IPA - New England',\n",
       "  'Bock - Maibock',\n",
       "  'Sour - Fruited',\n",
       "  'Cider - Other Fruit',\n",
       "  'Hard Seltzer',\n",
       "  'Cider - Traditional',\n",
       "  'Festbier',\n",
       "  'IPA - Imperial',\n",
       "  'IPA - Imperial'],\n",
       " 'ABV': ['6.4',\n",
       "  '4.8',\n",
       "  '5.2',\n",
       "  '6.6',\n",
       "  '6',\n",
       "  '5.8',\n",
       "  '6.4',\n",
       "  '6',\n",
       "  '8.5',\n",
       "  '7.3',\n",
       "  '6.8',\n",
       "  '6.6',\n",
       "  '5',\n",
       "  '4',\n",
       "  '7.9',\n",
       "  '5.8',\n",
       "  '7.8',\n",
       "  '8']}"
      ]
     },
     "execution_count": 12,
     "metadata": {},
     "output_type": "execute_result"
    }
   ],
   "source": [
    "beer_data = {'Name':beer_names,'Type':beer_types,'ABV':beer_abvs}\n",
    "beer_data"
   ]
  },
  {
   "cell_type": "code",
   "execution_count": 13,
   "id": "2c0cd272",
   "metadata": {},
   "outputs": [],
   "source": [
    "df = pd.DataFrame(beer_data)"
   ]
  },
  {
   "cell_type": "code",
   "execution_count": 14,
   "id": "7d2899a4",
   "metadata": {},
   "outputs": [],
   "source": [
    "df.to_csv('CityBarrelBeers.csv')"
   ]
  },
  {
   "cell_type": "code",
   "execution_count": 15,
   "id": "4c4a0bf1",
   "metadata": {},
   "outputs": [],
   "source": [
    "browser.quit()"
   ]
  },
  {
   "cell_type": "code",
   "execution_count": null,
   "id": "389b230e",
   "metadata": {},
   "outputs": [],
   "source": []
  }
 ],
 "metadata": {
  "kernelspec": {
   "display_name": "PythonData",
   "language": "python",
   "name": "pythondata"
  },
  "language_info": {
   "codemirror_mode": {
    "name": "ipython",
    "version": 3
   },
   "file_extension": ".py",
   "mimetype": "text/x-python",
   "name": "python",
   "nbconvert_exporter": "python",
   "pygments_lexer": "ipython3",
   "version": "3.11.3"
  }
 },
 "nbformat": 4,
 "nbformat_minor": 5
}
